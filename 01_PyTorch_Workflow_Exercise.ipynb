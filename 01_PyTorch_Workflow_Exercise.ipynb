{
  "nbformat": 4,
  "nbformat_minor": 0,
  "metadata": {
    "colab": {
      "provenance": [],
      "gpuType": "T4"
    },
    "kernelspec": {
      "name": "python3",
      "display_name": "Python 3"
    },
    "language_info": {
      "name": "python"
    },
    "accelerator": "GPU"
  },
  "cells": [
    {
      "cell_type": "code",
      "execution_count": 1,
      "metadata": {
        "colab": {
          "base_uri": "https://localhost:8080/",
          "height": 35
        },
        "id": "sbusgBiowBtE",
        "outputId": "3fb31300-b20e-4fb4-8734-33617e663fbe"
      },
      "outputs": [
        {
          "output_type": "execute_result",
          "data": {
            "text/plain": [
              "'2.0.1+cu118'"
            ],
            "application/vnd.google.colaboratory.intrinsic+json": {
              "type": "string"
            }
          },
          "metadata": {},
          "execution_count": 1
        }
      ],
      "source": [
        "import torch\n",
        "from torch import nn\n",
        "import matplotlib.pyplot as plt\n",
        "\n",
        "torch.__version__"
      ]
    },
    {
      "cell_type": "code",
      "source": [
        "device = \"cuda\" if torch.cuda.is_available() else \"cpu\"\n",
        "device"
      ],
      "metadata": {
        "colab": {
          "base_uri": "https://localhost:8080/",
          "height": 35
        },
        "id": "3Yl-DaPHwXKJ",
        "outputId": "ed860827-85a5-4910-f6b5-efcb8f57d1ee"
      },
      "execution_count": 2,
      "outputs": [
        {
          "output_type": "execute_result",
          "data": {
            "text/plain": [
              "'cuda'"
            ],
            "application/vnd.google.colaboratory.intrinsic+json": {
              "type": "string"
            }
          },
          "metadata": {},
          "execution_count": 2
        }
      ]
    },
    {
      "cell_type": "code",
      "source": [
        "start = 0\n",
        "end = 2\n",
        "step = 0.02\n",
        "weight = 0.3\n",
        "bias = 0.9\n",
        "\n",
        "X = torch.arange(start, end, step).unsqueeze(dim=1)\n",
        "y = weight * X + bias\n",
        "X.shape, y.shape"
      ],
      "metadata": {
        "colab": {
          "base_uri": "https://localhost:8080/"
        },
        "id": "eZbA0fvXwp8q",
        "outputId": "87e1d4e8-4973-4932-9bb2-4cd7c43e1f0c"
      },
      "execution_count": 3,
      "outputs": [
        {
          "output_type": "execute_result",
          "data": {
            "text/plain": [
              "(torch.Size([100, 1]), torch.Size([100, 1]))"
            ]
          },
          "metadata": {},
          "execution_count": 3
        }
      ]
    },
    {
      "cell_type": "code",
      "source": [
        "train_split = int(0.8 * len(X))\n",
        "X_train, y_train = X[:train_split], y[:train_split]\n",
        "X_test, y_test = X[train_split:], y[train_split:]\n",
        "\n",
        "X_train.shape, y_train.shape, X_test.shape, y_test.shape"
      ],
      "metadata": {
        "colab": {
          "base_uri": "https://localhost:8080/"
        },
        "id": "C876_7Y5xdoi",
        "outputId": "d9260346-2a25-4ace-c95c-ea3150e2d92a"
      },
      "execution_count": 4,
      "outputs": [
        {
          "output_type": "execute_result",
          "data": {
            "text/plain": [
              "(torch.Size([80, 1]),\n",
              " torch.Size([80, 1]),\n",
              " torch.Size([20, 1]),\n",
              " torch.Size([20, 1]))"
            ]
          },
          "metadata": {},
          "execution_count": 4
        }
      ]
    },
    {
      "cell_type": "code",
      "source": [
        "# put data on GPU\n",
        "X_train, y_train, X_test, y_test = X_train.to(device), y_train.to(device), X_test.to(device), y_test.to(device)\n",
        "\n",
        "X_train.device, y_train.shape, X_test.shape, y_test.shape"
      ],
      "metadata": {
        "colab": {
          "base_uri": "https://localhost:8080/"
        },
        "id": "nXwXb4gPx2u3",
        "outputId": "f592511b-0e56-4051-fc77-349eae75b778"
      },
      "execution_count": 5,
      "outputs": [
        {
          "output_type": "execute_result",
          "data": {
            "text/plain": [
              "(device(type='cuda', index=0),\n",
              " torch.Size([80, 1]),\n",
              " torch.Size([20, 1]),\n",
              " torch.Size([20, 1]))"
            ]
          },
          "metadata": {},
          "execution_count": 5
        }
      ]
    },
    {
      "cell_type": "code",
      "source": [
        "# build a linear regression model from nn.Module\n",
        "class LinearRegressionModel(nn.Module):\n",
        "  def __init__(self):\n",
        "    super().__init__()\n",
        "    self.linear_layer = nn.Linear(in_features=1, out_features=1)\n",
        "\n",
        "  def forward(self, x: torch.Tensor) -> torch.Tensor:\n",
        "    return self.linear_layer(x)  \n",
        "\n",
        "model = LinearRegressionModel()\n",
        "model.state_dict()    "
      ],
      "metadata": {
        "colab": {
          "base_uri": "https://localhost:8080/"
        },
        "id": "L1OEL_qhykH_",
        "outputId": "214d44af-2fbf-4f26-9819-91992536e01f"
      },
      "execution_count": 6,
      "outputs": [
        {
          "output_type": "execute_result",
          "data": {
            "text/plain": [
              "OrderedDict([('linear_layer.weight', tensor([[-0.8230]])),\n",
              "             ('linear_layer.bias', tensor([0.0262]))])"
            ]
          },
          "metadata": {},
          "execution_count": 6
        }
      ]
    },
    {
      "cell_type": "code",
      "source": [
        "# create a norm 1 loss function and a SGD optimizer\n",
        "loss_fun = nn.L1Loss()\n",
        "optimizer = torch.optim.SGD(params=model.parameters(), lr=0.01)"
      ],
      "metadata": {
        "id": "OaBlNMLszlsD"
      },
      "execution_count": 7,
      "outputs": []
    },
    {
      "cell_type": "code",
      "source": [
        "model.to(device)"
      ],
      "metadata": {
        "colab": {
          "base_uri": "https://localhost:8080/"
        },
        "id": "8zCxkVn4z8Kj",
        "outputId": "224d32a6-b80b-40d4-e9a6-f80dac5b63a4"
      },
      "execution_count": 8,
      "outputs": [
        {
          "output_type": "execute_result",
          "data": {
            "text/plain": [
              "LinearRegressionModel(\n",
              "  (linear_layer): Linear(in_features=1, out_features=1, bias=True)\n",
              ")"
            ]
          },
          "metadata": {},
          "execution_count": 8
        }
      ]
    },
    {
      "cell_type": "code",
      "source": [
        "next(model.parameters()).device"
      ],
      "metadata": {
        "colab": {
          "base_uri": "https://localhost:8080/"
        },
        "id": "n65TlkiJ0MZ9",
        "outputId": "34d85667-b259-4a67-eae8-054f3397bf07"
      },
      "execution_count": 9,
      "outputs": [
        {
          "output_type": "execute_result",
          "data": {
            "text/plain": [
              "device(type='cuda', index=0)"
            ]
          },
          "metadata": {},
          "execution_count": 9
        }
      ]
    },
    {
      "cell_type": "code",
      "source": [
        "epochs = 300\n",
        "\n",
        "for epoch in range(epochs):\n",
        "  model.train()\n",
        "\n",
        "  y_pred = model(X_train)\n",
        "  loss = loss_fun(y_pred, y_train)\n",
        "  optimizer.zero_grad()\n",
        "  loss.backward()\n",
        "  optimizer.step()\n",
        "\n",
        "  ## test\n",
        "  model.eval()\n",
        "  \n",
        "  with torch.inference_mode():\n",
        "    y_pred_test = model(X_test)\n",
        "    loss_test = loss_fun(y_pred_test, y_test)\n",
        "\n",
        "    if epoch % 20 == 0:\n",
        "      print(f\"epoch = {epoch}, train_loss = {loss}, test_loss={loss_test}\")      \n",
        "\n"
      ],
      "metadata": {
        "id": "2Nlogv270NM7",
        "colab": {
          "base_uri": "https://localhost:8080/"
        },
        "outputId": "0566f5e4-6d57-4b59-b652-d28f0f4c56ef"
      },
      "execution_count": 10,
      "outputs": [
        {
          "output_type": "stream",
          "name": "stdout",
          "text": [
            "epoch = 0, train_loss = 1.760976791381836, test_loss=2.859809637069702\n",
            "epoch = 20, train_loss = 1.4361568689346313, test_loss=2.3769893646240234\n",
            "epoch = 40, train_loss = 1.1113370656967163, test_loss=1.8941696882247925\n",
            "epoch = 60, train_loss = 0.7865171432495117, test_loss=1.411349892616272\n",
            "epoch = 80, train_loss = 0.46169739961624146, test_loss=0.9285299181938171\n",
            "epoch = 100, train_loss = 0.1830371469259262, test_loss=0.4781324565410614\n",
            "epoch = 120, train_loss = 0.08637311309576035, test_loss=0.21301816403865814\n",
            "epoch = 140, train_loss = 0.063587486743927, test_loss=0.12839375436306\n",
            "epoch = 160, train_loss = 0.04537663981318474, test_loss=0.08816482871770859\n",
            "epoch = 180, train_loss = 0.027191156521439552, test_loss=0.05201379209756851\n",
            "epoch = 200, train_loss = 0.009005681611597538, test_loss=0.015862787142395973\n",
            "epoch = 220, train_loss = 0.009720615111291409, test_loss=0.007276719901710749\n",
            "epoch = 240, train_loss = 0.009720615111291409, test_loss=0.007276719901710749\n",
            "epoch = 260, train_loss = 0.009720615111291409, test_loss=0.007276719901710749\n",
            "epoch = 280, train_loss = 0.009720615111291409, test_loss=0.007276719901710749\n"
          ]
        }
      ]
    },
    {
      "cell_type": "code",
      "source": [
        "def plot_predictions(X_train=X_train, y_train=y_train, X_test=X_test, y_test=y_test, predictions=None):\n",
        "  plt.figure(figsize=(10, 7))\n",
        "  plt.scatter(X_train, y_train, s=4, c=\"b\", label=\"Training data\")\n",
        "  plt.scatter(X_test, y_test, s=4, c=\"g\", label=\"Testing data\")\n",
        "\n",
        "  if predictions is not None:\n",
        "    plt.scatter(X_test, predictions, s=4, c=\"r\", label=\"predict data\")\n",
        "  plt.legend()   "
      ],
      "metadata": {
        "id": "FTv6FEuX2HWS"
      },
      "execution_count": 22,
      "outputs": []
    },
    {
      "cell_type": "code",
      "source": [
        "model.eval()\n",
        "with torch.inference_mode():\n",
        "  model_preds = model(X_test)\n",
        "model_preds"
      ],
      "metadata": {
        "colab": {
          "base_uri": "https://localhost:8080/"
        },
        "id": "KCcgf6fNGCBo",
        "outputId": "358b87e7-c02c-4a0b-d8aa-cdbaa1068b91"
      },
      "execution_count": 18,
      "outputs": [
        {
          "output_type": "execute_result",
          "data": {
            "text/plain": [
              "tensor([[1.3645],\n",
              "        [1.3704],\n",
              "        [1.3762],\n",
              "        [1.3821],\n",
              "        [1.3879],\n",
              "        [1.3938],\n",
              "        [1.3996],\n",
              "        [1.4055],\n",
              "        [1.4114],\n",
              "        [1.4172],\n",
              "        [1.4231],\n",
              "        [1.4289],\n",
              "        [1.4348],\n",
              "        [1.4406],\n",
              "        [1.4465],\n",
              "        [1.4523],\n",
              "        [1.4582],\n",
              "        [1.4641],\n",
              "        [1.4699],\n",
              "        [1.4758]], device='cuda:0')"
            ]
          },
          "metadata": {},
          "execution_count": 18
        }
      ]
    },
    {
      "cell_type": "code",
      "source": [
        "plot_predictions(X_train.cpu(), y_train.cpu(), X_test.cpu(), y_test.cpu(), predictions=model_preds.cpu())"
      ],
      "metadata": {
        "colab": {
          "base_uri": "https://localhost:8080/",
          "height": 599
        },
        "id": "zH5lxR_pGRtm",
        "outputId": "a1523232-03d4-4d18-b79b-50a0cd66a3d3"
      },
      "execution_count": 23,
      "outputs": [
        {
          "output_type": "display_data",
          "data": {
            "text/plain": [
              "<Figure size 1000x700 with 1 Axes>"
            ],
            "image/png": "[encoded data removed]"
          },
          "metadata": {}
        }
      ]
    },
    {
      "cell_type": "code",
      "source": [
        "from pathlib import Path\n",
        "\n",
        "model_dir = Path(\"models\")\n",
        "model_dir.mkdir(parents=True, exist_ok=True)\n",
        "\n",
        "mode_name = \"LM_exercise.pth\"\n",
        "model_path = model_dir / mode_name\n",
        "\n",
        "torch.save(obj=model.state_dict(), f=model_path)\n",
        "\n",
        "print(f\"save model to {model_path}\")"
      ],
      "metadata": {
        "colab": {
          "base_uri": "https://localhost:8080/"
        },
        "id": "0UrmF51IHIny",
        "outputId": "f6dfd4c8-0984-4249-e420-4b183f9a1ae1"
      },
      "execution_count": 25,
      "outputs": [
        {
          "output_type": "stream",
          "name": "stdout",
          "text": [
            "save model to models/LM_exercise.pth\n"
          ]
        }
      ]
    },
    {
      "cell_type": "code",
      "source": [
        "# load model\n",
        "loaded_model = LinearRegressionModel()\n",
        "loaded_model.load_state_dict(torch.load(model_path))\n",
        "loaded_model.to(device)\n",
        "loaded_model.eval()\n",
        "with torch.inference_mode():\n",
        "  loaded_preds = loaded_model(X_test)\n",
        "loaded_preds == model_preds  "
      ],
      "metadata": {
        "colab": {
          "base_uri": "https://localhost:8080/"
        },
        "id": "S0kFwyAgIReM",
        "outputId": "322ad37b-4cc9-43c8-b9f9-2703dcfc69bf"
      },
      "execution_count": 27,
      "outputs": [
        {
          "output_type": "execute_result",
          "data": {
            "text/plain": [
              "tensor([[True],\n",
              "        [True],\n",
              "        [True],\n",
              "        [True],\n",
              "        [True],\n",
              "        [True],\n",
              "        [True],\n",
              "        [True],\n",
              "        [True],\n",
              "        [True],\n",
              "        [True],\n",
              "        [True],\n",
              "        [True],\n",
              "        [True],\n",
              "        [True],\n",
              "        [True],\n",
              "        [True],\n",
              "        [True],\n",
              "        [True],\n",
              "        [True]], device='cuda:0')"
            ]
          },
          "metadata": {},
          "execution_count": 27
        }
      ]
    }
  ]
}