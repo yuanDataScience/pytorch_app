{
  "nbformat": 4,
  "nbformat_minor": 0,
  "metadata": {
    "colab": {
      "provenance": [],
      "gpuType": "T4"
    },
    "kernelspec": {
      "name": "python3",
      "display_name": "Python 3"
    },
    "language_info": {
      "name": "python"
    },
    "accelerator": "GPU"
  },
  "cells": [
    {
      "cell_type": "code",
      "execution_count": null,
      "metadata": {
        "colab": {
          "base_uri": "https://localhost:8080/"
        },
        "id": "lQubmQDAKd8t",
        "outputId": "9fb12832-7562-4e7f-b357-e480e97fb78b"
      },
      "outputs": [
        {
          "output_type": "stream",
          "name": "stdout",
          "text": [
            "Looking in indexes: https://pypi.org/simple, https://us-python.pkg.dev/colab-wheels/public/simple/\n",
            "Collecting rapids\n",
            "  Downloading rapids-0.0.1-py3-none-any.whl (10 kB)\n",
            "Requirement already satisfied: PyYAML in /usr/local/lib/python3.10/dist-packages (from rapids) (6.0)\n",
            "Collecting pyramid (from rapids)\n",
            "  Downloading pyramid-2.0.1-py3-none-any.whl (246 kB)\n",
            "\u001b[2K     \u001b[90m━━━━━━━━━━━━━━━━━━━━━━━━━━━━━━━━━━━━━━━\u001b[0m \u001b[32m247.0/247.0 kB\u001b[0m \u001b[31m6.7 MB/s\u001b[0m eta \u001b[36m0:00:00\u001b[0m\n",
            "\u001b[?25hRequirement already satisfied: setuptools in /usr/local/lib/python3.10/dist-packages (from rapids) (67.7.2)\n",
            "Collecting venusian (from rapids)\n",
            "  Downloading venusian-3.0.0-py3-none-any.whl (13 kB)\n",
            "Collecting zope.interface (from rapids)\n",
            "  Downloading zope.interface-6.0-cp310-cp310-manylinux_2_5_x86_64.manylinux1_x86_64.manylinux_2_17_x86_64.manylinux2014_x86_64.whl (246 kB)\n",
            "\u001b[2K     \u001b[90m━━━━━━━━━━━━━━━━━━━━━━━━━━━━━━━━━━━━━━\u001b[0m \u001b[32m247.0/247.0 kB\u001b[0m \u001b[31m30.2 MB/s\u001b[0m eta \u001b[36m0:00:00\u001b[0m\n",
            "\u001b[?25hCollecting hupper>=1.5 (from pyramid->rapids)\n",
            "  Downloading hupper-1.12-py3-none-any.whl (22 kB)\n",
            "Collecting plaster (from pyramid->rapids)\n",
            "  Downloading plaster-1.1.2-py2.py3-none-any.whl (11 kB)\n",
            "Collecting plaster-pastedeploy (from pyramid->rapids)\n",
            "  Downloading plaster_pastedeploy-1.0.1-py2.py3-none-any.whl (7.8 kB)\n",
            "Collecting translationstring>=0.4 (from pyramid->rapids)\n",
            "  Downloading translationstring-1.4-py2.py3-none-any.whl (15 kB)\n",
            "Collecting webob>=1.8.3 (from pyramid->rapids)\n",
            "  Downloading WebOb-1.8.7-py2.py3-none-any.whl (114 kB)\n",
            "\u001b[2K     \u001b[90m━━━━━━━━━━━━━━━━━━━━━━━━━━━━━━━━━━━━━━\u001b[0m \u001b[32m115.0/115.0 kB\u001b[0m \u001b[31m16.9 MB/s\u001b[0m eta \u001b[36m0:00:00\u001b[0m\n",
            "\u001b[?25hCollecting zope.deprecation>=3.5.0 (from pyramid->rapids)\n",
            "  Downloading zope.deprecation-5.0-py3-none-any.whl (10 kB)\n",
            "Collecting PasteDeploy>=2.0 (from plaster-pastedeploy->pyramid->rapids)\n",
            "  Downloading PasteDeploy-3.0.1-py3-none-any.whl (16 kB)\n",
            "Installing collected packages: translationstring, zope.interface, zope.deprecation, webob, venusian, plaster, PasteDeploy, hupper, plaster-pastedeploy, pyramid, rapids\n",
            "Successfully installed PasteDeploy-3.0.1 hupper-1.12 plaster-1.1.2 plaster-pastedeploy-1.0.1 pyramid-2.0.1 rapids-0.0.1 translationstring-1.4 venusian-3.0.0 webob-1.8.7 zope.deprecation-5.0 zope.interface-6.0\n"
          ]
        }
      ],
      "source": [
        "!pip install rapids"
      ]
    },
    {
      "cell_type": "code",
      "source": [
        "import rapids\n",
        "import torch\n",
        "import numpy as np\n",
        "import pandas as pd\n",
        "import matplotlib.pyplot as plt\n",
        "print(torch.__version__)"
      ],
      "metadata": {
        "id": "UJmLK9PfKk-5",
        "colab": {
          "base_uri": "https://localhost:8080/"
        },
        "outputId": "2ae1ce5c-de0e-48a7-d4fb-74ac4c971154"
      },
      "execution_count": null,
      "outputs": [
        {
          "output_type": "stream",
          "name": "stdout",
          "text": [
            "2.0.1+cu118\n"
          ]
        }
      ]
    },
    {
      "cell_type": "markdown",
      "source": [
        "## Introduction to Tensors\n",
        "### Creating tensors\n",
        "\n",
        "PyTorch tensors are created using `torch.Tensor()` -- https://pytorch.org/docs/stable/tensors.html"
      ],
      "metadata": {
        "id": "_ne_HhWkNKlv"
      }
    },
    {
      "cell_type": "code",
      "source": [
        "# scalar\n",
        "scalar = torch.tensor(7)\n",
        "print(scalar)\n",
        "print(scalar.ndim)\n",
        "\n",
        "# get scalar back as a Python int\n",
        "print(scalar.item())"
      ],
      "metadata": {
        "colab": {
          "base_uri": "https://localhost:8080/"
        },
        "id": "mS-0nlefNoRm",
        "outputId": "f2a40589-0f30-4371-9ec8-cfb8a6ce1050"
      },
      "execution_count": null,
      "outputs": [
        {
          "output_type": "stream",
          "name": "stdout",
          "text": [
            "tensor(7)\n",
            "0\n",
            "7\n"
          ]
        }
      ]
    },
    {
      "cell_type": "code",
      "source": [
        "# Vector\n",
        "vector = torch.Tensor([7, 7])\n",
        "print(vector)\n",
        "print(vector.ndim)\n",
        "print(vector.shape)"
      ],
      "metadata": {
        "colab": {
          "base_uri": "https://localhost:8080/"
        },
        "id": "kZieqIEiO2EK",
        "outputId": "b9845f6a-fb7f-44fd-d3e6-4286ba7bad98"
      },
      "execution_count": null,
      "outputs": [
        {
          "output_type": "stream",
          "name": "stdout",
          "text": [
            "tensor([7., 7.])\n",
            "1\n",
            "torch.Size([2])\n"
          ]
        }
      ]
    },
    {
      "cell_type": "code",
      "source": [
        "# MATRIX\n",
        "MATRIX = torch.Tensor([[7, 8],\n",
        "                       [9, 10]])\n",
        "print(MATRIX)\n",
        "print(MATRIX.ndim)\n",
        "print(MATRIX.shape)"
      ],
      "metadata": {
        "colab": {
          "base_uri": "https://localhost:8080/"
        },
        "id": "G9d4A-euPHky",
        "outputId": "1bc56a8d-cb4e-4e94-b913-118a63d8f85e"
      },
      "execution_count": null,
      "outputs": [
        {
          "output_type": "stream",
          "name": "stdout",
          "text": [
            "tensor([[ 7.,  8.],\n",
            "        [ 9., 10.]])\n",
            "2\n",
            "torch.Size([2, 2])\n"
          ]
        }
      ]
    },
    {
      "cell_type": "code",
      "source": [
        "# first dimension of MATRIX\n",
        "print(MATRIX[0])\n",
        "\n",
        "# second dimension of MATRIX\n",
        "print(MATRIX[1])"
      ],
      "metadata": {
        "colab": {
          "base_uri": "https://localhost:8080/"
        },
        "id": "g88nRQWIPKNp",
        "outputId": "a3055bfc-8682-44e0-a893-529921ac459b"
      },
      "execution_count": null,
      "outputs": [
        {
          "output_type": "stream",
          "name": "stdout",
          "text": [
            "tensor([7., 8.])\n",
            "tensor([ 9., 10.])\n"
          ]
        }
      ]
    },
    {
      "cell_type": "code",
      "source": [
        "MATRIX[0, 1]"
      ],
      "metadata": {
        "colab": {
          "base_uri": "https://localhost:8080/"
        },
        "id": "maMySpDqNbWa",
        "outputId": "005e1131-d2b3-4b83-d43a-e263d35852d6"
      },
      "execution_count": null,
      "outputs": [
        {
          "output_type": "execute_result",
          "data": {
            "text/plain": [
              "tensor(8.)"
            ]
          },
          "metadata": {},
          "execution_count": 7
        }
      ]
    },
    {
      "cell_type": "code",
      "source": [
        "# TENSOR\n",
        "# the first dimension (out most dimension only has 1 element)\n",
        "# the 2nd and 3rd dimensions have 3 elements each\n",
        "TENSOR = torch.Tensor([[[1, 2, 3], [3, 6, 9], [2, 4, 5]]])\n",
        "print(TENSOR)\n",
        "print(TENSOR.ndim)\n",
        "print(TENSOR.shape)"
      ],
      "metadata": {
        "colab": {
          "base_uri": "https://localhost:8080/"
        },
        "id": "2Q1hwojZQuDR",
        "outputId": "b2ce1c97-8849-491e-a26e-c51f6e13c520"
      },
      "execution_count": null,
      "outputs": [
        {
          "output_type": "stream",
          "name": "stdout",
          "text": [
            "tensor([[[1., 2., 3.],\n",
            "         [3., 6., 9.],\n",
            "         [2., 4., 5.]]])\n",
            "3\n",
            "torch.Size([1, 3, 3])\n"
          ]
        }
      ]
    },
    {
      "cell_type": "code",
      "source": [
        "TENSOR[0]"
      ],
      "metadata": {
        "colab": {
          "base_uri": "https://localhost:8080/"
        },
        "id": "iCwpCkeKRi7p",
        "outputId": "3bd36a88-0852-4ecb-d075-45e3041b5551"
      },
      "execution_count": null,
      "outputs": [
        {
          "output_type": "execute_result",
          "data": {
            "text/plain": [
              "tensor([[1., 2., 3.],\n",
              "        [3., 6., 9.],\n",
              "        [2., 4., 5.]])"
            ]
          },
          "metadata": {},
          "execution_count": 9
        }
      ]
    },
    {
      "cell_type": "code",
      "source": [
        "TENSOR[0][1]"
      ],
      "metadata": {
        "colab": {
          "base_uri": "https://localhost:8080/"
        },
        "id": "6WqtQR9sR3X9",
        "outputId": "f1249618-1418-4bd8-aed0-b6e4173d39bd"
      },
      "execution_count": null,
      "outputs": [
        {
          "output_type": "execute_result",
          "data": {
            "text/plain": [
              "tensor([3., 6., 9.])"
            ]
          },
          "metadata": {},
          "execution_count": 28
        }
      ]
    },
    {
      "cell_type": "markdown",
      "source": [
        "### using GPU on PyTorch\n",
        "* set up device dependingon the availability of GPU\n",
        "* create a tensor\n",
        "* move tensor to GPU\n",
        "* move tensor back from GPU to CPU"
      ],
      "metadata": {
        "id": "bfJT9Ws2iV-K"
      }
    },
    {
      "cell_type": "code",
      "source": [
        "# generate a tensor\n",
        "tensor = torch.tensor([1, 2, 3])\n",
        "\n",
        "# Tensor not on GPU\n",
        "print(tensor.device)\n",
        "\n",
        "# define device depending on availability of GPU\n",
        "device = \"cuda\" if torch.cuda.is_available() else \"cpu\"\n",
        "print(device)\n",
        "\n",
        "tensor_gpu = tensor.to(device)\n",
        "print(f'tensor = {tensor_gpu, tensor_gpu.device}')\n",
        "\n",
        "print(f'original tensor = {tensor, tensor.device}')"
      ],
      "metadata": {
        "colab": {
          "base_uri": "https://localhost:8080/"
        },
        "id": "wAFujaJLisUX",
        "outputId": "f43a029b-32c2-454d-edf2-b12b97d1c617"
      },
      "execution_count": null,
      "outputs": [
        {
          "output_type": "stream",
          "name": "stdout",
          "text": [
            "cpu\n",
            "cuda\n",
            "tensor = (tensor([1, 2, 3], device='cuda:0'), device(type='cuda', index=0))\n",
            "original tensor = (tensor([1, 2, 3]), device(type='cpu'))\n"
          ]
        }
      ]
    },
    {
      "cell_type": "code",
      "source": [
        "# create a copy of a tensor on GPU, and move it to CPU\n",
        "tensor_cpu = tensor_gpu.cpu().numpy()\n",
        "print(f'tensor_cpu = {tensor_cpu}')\n",
        "print(f'tensor_gpu = {tensor_gpu}')"
      ],
      "metadata": {
        "colab": {
          "base_uri": "https://localhost:8080/"
        },
        "id": "pBbDs3Bvj05K",
        "outputId": "aa5998c0-c25c-4c5d-8b3a-7b4eafa72f99"
      },
      "execution_count": null,
      "outputs": [
        {
          "output_type": "stream",
          "name": "stdout",
          "text": [
            "tensor_cpu = [1 2 3]\n",
            "tensor_gpu = tensor([1, 2, 3], device='cuda:0')\n"
          ]
        }
      ]
    }
  ]
}