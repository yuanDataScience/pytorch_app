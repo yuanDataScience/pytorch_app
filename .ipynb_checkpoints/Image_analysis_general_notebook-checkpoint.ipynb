{
 "cells": [
  {
   "cell_type": "markdown",
   "id": "231ca3ad",
   "metadata": {},
   "source": [
    "## PyTorch Summary"
   ]
  },
  {
   "cell_type": "code",
   "execution_count": 16,
   "id": "2fc1a4b8",
   "metadata": {},
   "outputs": [],
   "source": [
    "import math\n",
    "import torch\n",
    "from pathlib import PurePath, Path "
   ]
  },
  {
   "cell_type": "markdown",
   "id": "247cd4f2",
   "metadata": {},
   "source": [
    "### Pathlib Module\n",
    "* used to \n",
    "  + list all files of a given type in a directory\n",
    "  + find the parent directory of a given file\n",
    "  + crate a unique file name that doesn't exist\n",
    "  + you don't need to import glob, os and shutil to find and move files, as shown below:\n",
    "  ```python\n",
    "    # need to use three libs to find and move .txt files to archive folder\n",
    "    import glob\n",
    "    import os\n",
    "    import shutil\n",
    "\n",
    "    for file_name in glob.glob(\"*.txt\"):\n",
    "        new_path = os.path.join(\"archive\", file_name)\n",
    "        shutil.move(file_name, new_path)\n",
    "        \n",
    "    # do the same thing by only using Path in pathlib\n",
    "    from pathlib import Path\n",
    "    \n",
    "    for file_path in Path.cwd().glob('*.txt'):\n",
    "        new_path = Path(\"archive\") / file_path.name\n",
    "        file_path.replace(new_path)\n",
    "  ```\n",
    "* Path classes in Pathlib module are divided into pure paths and concrete paths\n",
    "* Pure paths provides only computational operations but does not provide I/O operations\n",
    "  + Pure path objects provide methods for path handling operations without actually accessing the file system\n",
    "  + subclasses\n",
    "    +  PureWindowsPath\n",
    "    + PurePosixpath\n",
    "  + methods\n",
    "    + `is_absolute()` returns True if the path is absolute otherwise False\n",
    "    + name property returns the final path component after excluding drive and root component, if any\n",
    "* Concrete paths inherit from pure paths and provide computational as well as I/O operations\n",
    "  + concrete paths are sub-classes of pure path classes\n",
    "  + it also provides various methods to perform system call on path objects\n",
    "  + upon instantiating, this class will create either pathlib.PosixPath or pathlib.WindowsPath\n",
    "  + PosixPath and WindowsPath are subclasses of both Path and PurePosixPath and PureWindowsPath, respectively\n",
    "  + when you instantiate a Path object on PC, a WindowsPath object will be created\n",
    "  + methods\n",
    "    + `is_dir()`"
   ]
  },
  {
   "cell_type": "code",
   "execution_count": 17,
   "id": "57bd53bd",
   "metadata": {},
   "outputs": [
    {
     "name": "stdout",
     "output_type": "stream",
     "text": [
      "\\usr\\local\\bin\\file_txt\n",
      "False\n",
      "file_txt\n"
     ]
    },
    {
     "data": {
      "text/plain": [
       "'\\\\usr\\\\local\\\\bin\\\\file_txt'"
      ]
     },
     "execution_count": 17,
     "metadata": {},
     "output_type": "execute_result"
    }
   ],
   "source": [
    "# PurePath\n",
    "from pathlib import PurePath\n",
    "path_str = '/usr/local/bin/file_txt'\n",
    "path = PurePath(path_str)\n",
    "print(path)\n",
    "print(path.is_absolute())\n",
    "print(path.name)\n",
    "str(path)\n"
   ]
  },
  {
   "cell_type": "markdown",
   "id": "e63c5ba1",
   "metadata": {},
   "source": [
    "#### Path class and methods\n",
    "* three ways to instantiate a Path object\n",
    "  + using class methods (Path.cwd() or Path.home()) to get current working directory or home directory\n",
    "  ```python\n",
    "      # use Path class methods to instantiate Path objects\n",
    "      # This is convenient to directly access the current\n",
    "      # or home directory\n",
    "    \n",
    "        from pathlib import Path\n",
    "        Path.cwd()\n",
    "        Path.home()\n",
    "  ```  \n",
    "  + passing in strings. you can use posix style strings. Path will convert it for you on windowns\n",
    "    + you can use forward slashs in string representation to create Path obj on windows. Path will automatically convert it to back slash for you\n",
    "    + code example\n",
    "    ```python    \n",
    "      path_str = '/usr/local/bin/file.txt'\n",
    "      path = Path(path_str)\n",
    "    ```  \n",
    "  + joining path components\n",
    "    + paths can be joined by forward slash /, regardless of your platform's actual path separator\n",
    "    + the forward slash operator can join several paths or a mix of paths and strings as long as you include one Path object.\n",
    "    + if you don't like the special slash operation, you can do the same operation with the .joinpath() method\n",
    "    ```python\n",
    "        from pathlib import Path\n",
    "\n",
    "        # join paths using /\n",
    "        for file_path in Path.cwd().glob(\"*.txt\"):\n",
    "            new_path = Path(\"archive\") / file_path.name\n",
    "            file_path.rename(new_path)\n",
    "\n",
    "        # join paths using joinpath() method\n",
    "        Path.home().joinpath(\"python\", \"scripts\", \"test.py\")\n",
    "    ```"
   ]
  },
  {
   "cell_type": "code",
   "execution_count": 18,
   "id": "71f75daf",
   "metadata": {},
   "outputs": [
    {
     "name": "stdout",
     "output_type": "stream",
     "text": [
      "\\usr\\local\\bin\\file_txt\n",
      "class(path)=<class 'pathlib.WindowsPath'>\n",
      "False\n",
      "file_txt\n"
     ]
    },
    {
     "data": {
      "text/plain": [
       "'\\\\usr\\\\local\\\\bin\\\\file_txt'"
      ]
     },
     "execution_count": 18,
     "metadata": {},
     "output_type": "execute_result"
    }
   ],
   "source": [
    "# concrete path\n",
    "from pathlib import Path\n",
    "\n",
    "path_str = '/usr/local/bin/file_txt'\n",
    "path = Path(path_str)\n",
    "print(path)\n",
    "print(f'class(path)={type(path)}')\n",
    "print(path.is_absolute())\n",
    "print(path.name)\n",
    "str(path)"
   ]
  },
  {
   "cell_type": "markdown",
   "id": "d4b2f39b",
   "metadata": {},
   "source": [
    "#### File system operations with Paths\n",
    "* After instantiating a Path object, you can perform file operations or pick parts from the path\n",
    "* Picking out components of a Path\n",
    "  + .name: The filename without any directory as a string \n",
    "  + .stem: The filename without the file extension as a string\n",
    "  + .suffix: The file extension as a string\n",
    "  + .anchor: the part of the path before the directories as a string\n",
    "  + .parent: returns a Path object corresponding to the directory containing the file, or the parent directory if the path is a directory "
   ]
  },
  {
   "cell_type": "code",
   "execution_count": 19,
   "id": "529f073c",
   "metadata": {},
   "outputs": [
    {
     "name": "stdout",
     "output_type": "stream",
     "text": [
      "path is C:\\Users\\gahjelle\\realpython\\test.md\n",
      "path.name is test.md\n",
      "path.stem is test\n",
      "path.suffix is .md\n",
      "path.anchor is C:\\\n",
      "path.parent is C:\\Users\\gahjelle\\realpython\n",
      "path.parent.parent is C:\\Users\\gahjelle\n"
     ]
    }
   ],
   "source": [
    "from pathlib import Path\n",
    "path = Path(r\"C:\\Users\\gahjelle\\realpython\\test.md\")\n",
    "print(f\"path is {path}\")\n",
    "print(f\"path.name is {path.name}\")\n",
    "print(f\"path.stem is {path.stem}\")\n",
    "print(f\"path.suffix is {path.suffix}\")\n",
    "print(f\"path.anchor is {path.anchor}\")\n",
    "print(f\"path.parent is {path.parent}\")\n",
    "\n",
    "# chain parent property to utilize the Path obj return from .parent\n",
    "print(f\"path.parent.parent is {path.parent.parent}\")"
   ]
  },
  {
   "cell_type": "markdown",
   "id": "59663923",
   "metadata": {},
   "source": [
    "* read and write a file \n",
    "  + we use open() on Path objects\n",
    "  ``` python\n",
    "    from pathlib import Path\n",
    "\n",
    "    path = Path.cwd() / \"shopping_list.md\"\n",
    "    with path.open(mode=\"r\", encoding=\"utf-8\") as md_file:\n",
    "        content = md_file.read()\n",
    "        groceries = [line for line in content.splitlines() if line.startswith(\"*\")]\n",
    "    print(\"\\n\".join(groceries))\n",
    "```\n",
    "  + pathlib offers some convenient methods to read and write files without use context manager\n",
    "    + .read_text() opens the path in text mode and returns the contents as a string\n",
    "    + .read_bytes() opens the path in binary mode and returns the cntents as a byte string\n",
    "    + .write_text() opens the path and writes string data to it\n",
    "    + .write_bytes() opens the path in binary mode and writes data to it\n",
    "  + code examples\n",
    "    ``` python\n",
    "    from pathlib import Path\n",
    "\n",
    "    # define the current directory\n",
    "    path = Path.cwd() / \"shopping_list.md\"\n",
    "    content = path.read_text(encoding=\"utf-8\")\n",
    "    groceries = [line for line in content.splitlines() if line.startswith(\"*\")]\n",
    "    print(\"\\n\".join(groceries))\n",
    "    \n",
    "    # you can also use the default directory, which is the current directory\n",
    "    content = Path(\"shopping_list.md\").read_text(encoding=\"utf-8\")\n",
    "    groceries = [line for line in content.splitlines() if line.startswith(\"*\")]\n",
    "    print(\"\\n\".join(groceries))\n",
    "    Path(\"plain_list.md\").write_text(\"\\n\".join(groceries), encoding=\"utf-8\")\n",
    "    ```\n",
    "* rename files\n",
    "  + the first step is to return a Path object with the filename, extension or both replaced\n",
    "    + `.with_stem()` replace the file name\n",
    "    + `.with_suffix()` replace the extension\n",
    "    + `.with_name()` replace both file name and extension\n",
    "  + then use the newly created Path object to replace the existing Path object\n",
    "    + `existing_Path_obj.replace(new_Path_obj)`\n",
    "  + code example\n",
    "  ```python\n",
    "    from pathlib import Path\n",
    "\n",
    "    # create a Path object from hello.txt\n",
    "    txt_path = Path(\"/home/example/python/hello.txt\")\n",
    "\n",
    "    # replace the suffix and create a new Path obj hello.md\n",
    "    md_path = txt_path.with_suffix(\"md\")\n",
    "\n",
    "    # replace hello.txt by hello.md and thus, rename the file\n",
    "    txt_path.replace(md_path)\n",
    "  ```\n",
    "  \n",
    "* copy files\n",
    "  + create a Path object with the same suffix of original Path object\n",
    "  + write the content of original to new Path objects\n",
    "  ``` python\n",
    "    from pathlib import Path\n",
    "\n",
    "    # points to the source file\n",
    "    source = Paht(\"shopping_list.md\")\n",
    "    \n",
    "    # create a new Path object with the same extension but different file name\n",
    "    destination = source.with_stem(\"shopping_list_02\")\n",
    "    \n",
    "    # write content of source to destination\n",
    "    destination.write_bytes(source.read_bytes())\n",
    "  ```\n",
    "  \n",
    "* moving and deleting files\n",
    "  + moving files using replace\n",
    "  ```python\n",
    "\n",
    "    # simply implementation\n",
    "    source = Path(\"hello.py\")\n",
    "    destination = Path(\"goodbye.py\")\n",
    "\n",
    "    if not destination.exists():\n",
    "        source.replace(destination)\n",
    "        \n",
    "    # an implementation to avoid race condition that another process\n",
    "    # add a file at the destination path between the execution of if\n",
    "    # and the .replace() method. If fileexist, through the exception\n",
    "    # otherwise, delete source by unlink() after copying file\n",
    "    \n",
    "    try:\n",
    "        with destination.open(mode=\"xb\") as file:\n",
    "            file.write(source.read_bytes())\n",
    "    except FileExistsError:\n",
    "        print(f\"File {destination} exists already\")\n",
    "    else:\n",
    "        source.unlink()        \n",
    "  ```    \n",
    "  \n",
    "* create empty file using .touch()\n",
    "```python\n",
    "    filename = Path(\"hello.txt\")\n",
    "    filename.exists()\n",
    "\n",
    "    filename.touch()\n",
    "    filename.exists()\n",
    "```\n",
    "\n",
    "* counting files\n",
    "  + iterates over all the files in the given directory using .iterdir()\n",
    "  ```python\n",
    "    Counter(path.suffix for path in Path.cwd().iterdir())\n",
    "\n",
    "    # only count files with extensions starting with p\n",
    "    Counter(path.suffix for path in Path.cwd().glob(\"*.p*\"))\n",
    "\n",
    "    # recursively find all the files in both the directory and subdirectories by .rglob()\n",
    "    Counter(path.suffix for path in Path.cwd().rglob(\"*.p*\"))\n",
    "  ```\n",
    "\n",
    "* get different parts/components of a path use .parts\n",
    "                                                \n",
    "                                                "
   ]
  },
  {
   "cell_type": "code",
   "execution_count": null,
   "id": "91d3b8b3",
   "metadata": {},
   "outputs": [],
   "source": []
  },
  {
   "cell_type": "code",
   "execution_count": 12,
   "id": "cf3e30c8",
   "metadata": {},
   "outputs": [
    {
     "data": {
      "text/plain": [
       "tensor([[  2.7183,   7.3891,  20.0855],\n",
       "        [ 54.5981, 148.4132, 403.4288]])"
      ]
     },
     "execution_count": 12,
     "metadata": {},
     "output_type": "execute_result"
    }
   ],
   "source": [
    "x.exp()"
   ]
  },
  {
   "cell_type": "code",
   "execution_count": 15,
   "id": "60e3a825",
   "metadata": {},
   "outputs": [],
   "source": [
    "log_softmax = x.exp().sum(-1).log().unsqueeze(-1)"
   ]
  },
  {
   "cell_type": "code",
   "execution_count": 16,
   "id": "f5d6a41a",
   "metadata": {},
   "outputs": [
    {
     "data": {
      "text/plain": [
       "torch.Size([2, 1])"
      ]
     },
     "execution_count": 16,
     "metadata": {},
     "output_type": "execute_result"
    }
   ],
   "source": [
    "log_softmax.shape"
   ]
  },
  {
   "cell_type": "code",
   "execution_count": 17,
   "id": "2e6c0fd9",
   "metadata": {},
   "outputs": [],
   "source": [
    "from typing import Tuple\n",
    "def simu(a: int, b: int) -> Tuple[int, int]:\n",
    "    return a+b, a-b"
   ]
  },
  {
   "cell_type": "code",
   "execution_count": 23,
   "id": "ac01a817",
   "metadata": {},
   "outputs": [
    {
     "name": "stdout",
     "output_type": "stream",
     "text": [
      "[(3, -1), (7, -1), (11, -1), (15, -1)]\n",
      "[(3, 7, 11, 15), (-1, -1, -1, -1)]\n"
     ]
    }
   ],
   "source": [
    "test = [(1, 2), (3, 4), (5, 6), (7, 8)]\n",
    "print([simu(a, b) for a, b in test])\n",
    "print(list(zip(*[simu(a, b) for a, b in test])))"
   ]
  },
  {
   "cell_type": "code",
   "execution_count": 25,
   "id": "c5f80c15",
   "metadata": {},
   "outputs": [
    {
     "data": {
      "text/plain": [
       "[((3, -1),), ((7, -1),), ((11, -1),), ((15, -1),)]"
      ]
     },
     "execution_count": 25,
     "metadata": {},
     "output_type": "execute_result"
    }
   ],
   "source": [
    "list(zip([simu(a, b) for a, b in test]))"
   ]
  },
  {
   "cell_type": "code",
   "execution_count": 27,
   "id": "b6dce8a2",
   "metadata": {},
   "outputs": [
    {
     "name": "stdout",
     "output_type": "stream",
     "text": [
      "(3, -1) (7, -1) (11, -1) (15, -1)\n"
     ]
    }
   ],
   "source": [
    "print(*[simu(a, b) for a, b in test])"
   ]
  },
  {
   "cell_type": "code",
   "execution_count": 1,
   "id": "3bde3a46",
   "metadata": {},
   "outputs": [
    {
     "data": {
      "text/plain": [
       "8"
      ]
     },
     "execution_count": 1,
     "metadata": {},
     "output_type": "execute_result"
    }
   ],
   "source": [
    "import os\n",
    "os.cpu_count()"
   ]
  },
  {
   "cell_type": "code",
   "execution_count": null,
   "id": "71e36068",
   "metadata": {},
   "outputs": [],
   "source": [
    "# Python program to explain os.scandir() method\n",
    "\n",
    "# importing os module\n",
    "import os\n",
    "\n",
    "\n",
    "# Directory to be scanned\n",
    "path = '/home/ihritik'\n",
    "\n",
    "# Scan the directory and get\n",
    "# an iterator of os.DirEntry objects\n",
    "# corresponding to entries in it\n",
    "# using os.scandir() method\n",
    "obj = os.scandir(path)\n",
    "\n",
    "# List all files and directories\n",
    "# in the specified path\n",
    "print(\"Files and Directories in '% s':\" % path)\n",
    "for entry in obj :\n",
    "    if entry.is_dir() or entry.is_file():\n",
    "        print(entry.name)\n",
    "\n",
    "\n",
    "# entry.is_file() will check\n",
    "# if entry is a file or not and\n",
    "# entry.is_dir() method will\n",
    "# check if entry is a\n",
    "# directory or not.\n",
    "\n",
    "\n",
    "# To Close the iterator and\n",
    "# free acquired resources\n",
    "# use scandir.close() method\n",
    "obj.close()\n",
    "\n",
    "# scandir.close() method is called automatically\n",
    "# when the iterator is exhausted\n",
    "# or garbage collected, or\n",
    "# when an error happens during iterating.\n"
   ]
  }
 ],
 "metadata": {
  "kernelspec": {
   "display_name": "Python 3 (ipykernel)",
   "language": "python",
   "name": "python3"
  },
  "language_info": {
   "codemirror_mode": {
    "name": "ipython",
    "version": 3
   },
   "file_extension": ".py",
   "mimetype": "text/x-python",
   "name": "python",
   "nbconvert_exporter": "python",
   "pygments_lexer": "ipython3",
   "version": "3.10.4"
  }
 },
 "nbformat": 4,
 "nbformat_minor": 5
}
