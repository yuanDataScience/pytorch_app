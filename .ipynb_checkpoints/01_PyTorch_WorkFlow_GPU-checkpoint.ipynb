{
 "cells": [
  {
   "cell_type": "code",
   "execution_count": 1,
   "metadata": {
    "colab": {
     "base_uri": "https://localhost:8080/",
     "height": 35
    },
    "id": "I6ia0WoeC-V5",
    "outputId": "2c569609-4244-4906-90f8-372796897d45"
   },
   "outputs": [
    {
     "data": {
      "application/vnd.google.colaboratory.intrinsic+json": {
       "type": "string"
      },
      "text/plain": [
       "'2.0.1+cu118'"
      ]
     },
     "execution_count": 1,
     "metadata": {},
     "output_type": "execute_result"
    }
   ],
   "source": [
    "import torch\n",
    "from torch import nn\n",
    "import matplotlib.pyplot as plt\n",
    "\n",
    "torch.__version__"
   ]
  },
  {
   "cell_type": "code",
   "execution_count": 3,
   "metadata": {
    "colab": {
     "base_uri": "https://localhost:8080/"
    },
    "id": "ROdileFJE4CV",
    "outputId": "3779e2b1-f549-475a-b361-4061882234ac"
   },
   "outputs": [
    {
     "name": "stdout",
     "output_type": "stream",
     "text": [
      "using device: cuda\n"
     ]
    }
   ],
   "source": [
    "device = \"cuda\" if torch.cuda.is_available else \"cpu\"\n",
    "print(f\"using device: {device}\")"
   ]
  },
  {
   "cell_type": "markdown",
   "metadata": {
    "id": "VOLbAxskFOFB"
   },
   "source": [
    "## 1. Generate data\n",
    "* set up weight and bias\n",
    "* generate input X tensor as (50, 1) shape. Each row is an example\n",
    "* generate output y tensor as (50, 1) shape"
   ]
  },
  {
   "cell_type": "code",
   "execution_count": 4,
   "metadata": {
    "colab": {
     "base_uri": "https://localhost:8080/"
    },
    "id": "rKnI7ryxFIjJ",
    "outputId": "df84db14-35bd-4910-f13c-9729450b9b4a"
   },
   "outputs": [
    {
     "data": {
      "text/plain": [
       "(tensor([[0.0000],\n",
       "         [0.0200],\n",
       "         [0.0400],\n",
       "         [0.0600],\n",
       "         [0.0800],\n",
       "         [0.1000],\n",
       "         [0.1200],\n",
       "         [0.1400],\n",
       "         [0.1600],\n",
       "         [0.1800]]),\n",
       " tensor([[0.3000],\n",
       "         [0.3140],\n",
       "         [0.3280],\n",
       "         [0.3420],\n",
       "         [0.3560],\n",
       "         [0.3700],\n",
       "         [0.3840],\n",
       "         [0.3980],\n",
       "         [0.4120],\n",
       "         [0.4260]]))"
      ]
     },
     "execution_count": 4,
     "metadata": {},
     "output_type": "execute_result"
    }
   ],
   "source": [
    "# create weight and bias\n",
    "weight = 0.7\n",
    "bias = 0.3\n",
    "\n",
    "# create range values\n",
    "start = 0\n",
    "end = 1\n",
    "step = 0.02\n",
    "\n",
    "# create X and y (feature and labels)\n",
    "X = torch.arange(start, end, step).unsqueeze(dim=1)\n",
    "y = weight * X + bias\n",
    "X[:10], y[:10]"
   ]
  },
  {
   "cell_type": "code",
   "execution_count": 5,
   "metadata": {
    "colab": {
     "base_uri": "https://localhost:8080/"
    },
    "id": "OV-22eurGClI",
    "outputId": "a47ddaff-4625-4fcf-d5f6-aa39d0e7c0cf"
   },
   "outputs": [
    {
     "data": {
      "text/plain": [
       "(40, 40, 10, 10)"
      ]
     },
     "execution_count": 5,
     "metadata": {},
     "output_type": "execute_result"
    }
   ],
   "source": [
    "train_split = int(0.8 * len(X))\n",
    "X_train, y_train = X[:train_split], y[:train_split]\n",
    "X_test, y_test = X[train_split:], y[train_split:]\n",
    "len(X_train), len(y_train), len(X_test), len(y_test)"
   ]
  },
  {
   "cell_type": "code",
   "execution_count": 6,
   "metadata": {
    "id": "7x0_Ak6BEQ8K"
   },
   "outputs": [],
   "source": [
    "# define plot_predictions function to visualize the train and test data points\n",
    "def plot_predictions(train_data=X_train, \n",
    "                     train_labels=y_train, \n",
    "                     test_data=X_test, \n",
    "                     test_labels=y_test, \n",
    "                     predictions=None):\n",
    "  \"\"\"\n",
    "  Plots training data, test data and compares predictions.\n",
    "  \"\"\"\n",
    "  plt.figure(figsize=(10, 7))\n",
    "\n",
    "  # Plot training data in blue\n",
    "  plt.scatter(train_data, train_labels, c=\"b\", s=4, label=\"Training data\")\n",
    "  \n",
    "  # Plot test data in green\n",
    "  plt.scatter(test_data, test_labels, c=\"g\", s=4, label=\"Testing data\")\n",
    "\n",
    "  if predictions is not None:\n",
    "    # Plot the predictions in red (predictions were made on the test data)\n",
    "    plt.scatter(test_data, predictions, c=\"r\", s=4, label=\"Predictions\")\n",
    "\n",
    "  # Show the legend\n",
    "  plt.legend(prop={\"size\": 14});"
   ]
  },
  {
   "cell_type": "code",
   "execution_count": 7,
   "metadata": {
    "colab": {
     "base_uri": "https://localhost:8080/",
     "height": 599
    },
    "id": "pwxCvbuREmQH",
    "outputId": "810c319e-d431-4dc4-fd79-efdd102073f5"
   },
   "outputs": [
    {
     "data": {
      "image/png": "[encoded data removed]",
      "text/plain": [
       "<Figure size 1000x700 with 1 Axes>"
      ]
     },
     "metadata": {},
     "output_type": "display_data"
    }
   ],
   "source": [
    "plot_predictions(X_train, y_train, X_test, y_test)"
   ]
  },
  {
   "cell_type": "markdown",
   "metadata": {
    "id": "UCki3zWsG51R"
   },
   "source": [
    "## 2. Building a PyTorch linear model\n",
    "### 2.1 build a linear regression model using nn.Linear()"
   ]
  },
  {
   "cell_type": "code",
   "execution_count": 22,
   "metadata": {
    "colab": {
     "base_uri": "https://localhost:8080/"
    },
    "id": "dr7FmX8jE21S",
    "outputId": "7d4a3abe-34d0-4342-b87a-e2e4fd1e5e11"
   },
   "outputs": [
    {
     "data": {
      "text/plain": [
       "(LinearRegressionModel(\n",
       "   (linear_layer): Linear(in_features=1, out_features=1, bias=True)\n",
       " ),\n",
       " OrderedDict([('linear_layer.weight', tensor([[0.7645]])),\n",
       "              ('linear_layer.bias', tensor([0.8300]))]))"
      ]
     },
     "execution_count": 22,
     "metadata": {},
     "output_type": "execute_result"
    }
   ],
   "source": [
    "# build LinearModel from nn.Module base class\n",
    "class LinearRegressionModel(nn.Module):\n",
    "    def __init__(self):\n",
    "        super().__init__()\n",
    "\n",
    "    # use linear layer to create weight and bias parameters\n",
    "    self.linear_layer = nn.Linear(in_features=1, out_features=1)\n",
    "\n",
    "    # define forward computing\n",
    "    def forward(self, x: torch.tensor) -> torch.tensor:\n",
    "        return self.linear_layer(x)\n",
    "\n",
    "torch.manual_seed(42)\n",
    "model = LinearRegressionModel()\n",
    "model, model.state_dict()      "
   ]
  },
  {
   "cell_type": "markdown",
   "metadata": {
    "id": "82elgZk2IMgK"
   },
   "source": [
    "### 2.2. put model on GPU"
   ]
  },
  {
   "cell_type": "code",
   "execution_count": 23,
   "metadata": {
    "colab": {
     "base_uri": "https://localhost:8080/"
    },
    "id": "bT2-EXXjIaWA",
    "outputId": "bf63be23-ea75-47b5-ed36-981579fe4acd"
   },
   "outputs": [
    {
     "data": {
      "text/plain": [
       "device(type='cpu')"
      ]
     },
     "execution_count": 23,
     "metadata": {},
     "output_type": "execute_result"
    }
   ],
   "source": [
    "# check the current device of the model\n",
    "next(model.parameters()).device"
   ]
  },
  {
   "cell_type": "code",
   "execution_count": 24,
   "metadata": {
    "colab": {
     "base_uri": "https://localhost:8080/"
    },
    "id": "FlDEPHD8Ih7v",
    "outputId": "70a9a9e9-7070-44be-fae2-87eed1c4bbca"
   },
   "outputs": [
    {
     "data": {
      "text/plain": [
       "device(type='cuda', index=0)"
      ]
     },
     "execution_count": 24,
     "metadata": {},
     "output_type": "execute_result"
    }
   ],
   "source": [
    "# put mode on GPU\n",
    "model.to(device)\n",
    "next(model.parameters()).device"
   ]
  },
  {
   "cell_type": "markdown",
   "metadata": {
    "id": "gzoJxDhyI_Uo"
   },
   "source": [
    "### 3. Train mode\n",
    "* define loss function\n",
    "* define optimizer\n",
    "* set up work flow with 100 epochs \n",
    "  + each epoch is one pass of training data\n",
    "* embed model evaluation for every 10 epochs  "
   ]
  },
  {
   "cell_type": "code",
   "execution_count": 25,
   "metadata": {
    "id": "XVcMIQjgJSjj"
   },
   "outputs": [],
   "source": [
    "# create loss funtion\n",
    "loss_fun = nn.L1Loss()\n",
    "\n",
    "# create optimizer\n",
    "optimizer = torch.optim.SGD(params=model.parameters(), lr= 0.01)"
   ]
  },
  {
   "cell_type": "code",
   "execution_count": 26,
   "metadata": {
    "id": "YS2gwGFdJqXw"
   },
   "outputs": [],
   "source": [
    "\n",
    "# put data on GPU\n",
    "X_train = X_train.to(device)\n",
    "y_train = y_train.to(device)\n",
    "\n",
    "X_test = X_test.to(device)\n",
    "y_test = y_test.to(device)"
   ]
  },
  {
   "cell_type": "code",
   "execution_count": 28,
   "metadata": {
    "colab": {
     "base_uri": "https://localhost:8080/"
    },
    "id": "KU1lzR_uKE6X",
    "outputId": "c7e5b9d6-19d4-460a-f8c3-b01428ab09ff"
   },
   "outputs": [
    {
     "name": "stdout",
     "output_type": "stream",
     "text": [
      "Epoch: 0 | train loss: 0.5551779866218567 | test loss: 0.5739762187004089\n",
      "Epoch: 10 | train loss: 0.439968079328537 | test loss: 0.4392664134502411\n",
      "Epoch: 20 | train loss: 0.3247582018375397 | test loss: 0.30455657839775085\n",
      "Epoch: 30 | train loss: 0.20954833924770355 | test loss: 0.16984669864177704\n",
      "Epoch: 40 | train loss: 0.09433845430612564 | test loss: 0.03513690456748009\n",
      "Epoch: 50 | train loss: 0.023886388167738914 | test loss: 0.04784907028079033\n",
      "Epoch: 60 | train loss: 0.019956795498728752 | test loss: 0.045803118497133255\n",
      "Epoch: 70 | train loss: 0.016517987474799156 | test loss: 0.037530567497015\n",
      "Epoch: 80 | train loss: 0.013089174404740334 | test loss: 0.02994490973651409\n",
      "Epoch: 90 | train loss: 0.009653178043663502 | test loss: 0.02167237363755703\n"
     ]
    }
   ],
   "source": [
    "torch.manual_seed(42)\n",
    "\n",
    "epochs = 100\n",
    "\n",
    "for epoch in range(epochs):\n",
    "\n",
    "  # set mode in training mode\n",
    "  model.train()\n",
    "\n",
    "  # get predictions\n",
    "  y_preds = model(X_train)\n",
    "\n",
    "  # calculate loss\n",
    "  loss = loss_fun(y_preds, y_train)\n",
    "\n",
    "  # set gradient as zero\n",
    "  optimizer.zero_grad()\n",
    "\n",
    "  # calculate gradient by back propagation\n",
    "  loss.backward()\n",
    "\n",
    "  # update linear model parameters by optimizer\n",
    "  optimizer.step()\n",
    "\n",
    "  ## test for evaluation\n",
    "  model.eval()\n",
    "\n",
    "  # evaluate prediction\n",
    "  with torch.inference_mode():\n",
    "    y_test_preds = model(X_test)\n",
    "    test_loss = loss_fun(y_test_preds, y_test)\n",
    "\n",
    "    if epoch % 10 == 0:\n",
    "      print(f\"Epoch: {epoch} | train loss: {loss} | test loss: {test_loss}\")"
   ]
  },
  {
   "cell_type": "code",
   "execution_count": 29,
   "metadata": {
    "colab": {
     "base_uri": "https://localhost:8080/"
    },
    "id": "_JYBnOp0Mgrb",
    "outputId": "ca60eaab-7679-4541-f7cd-d0cce2842de2"
   },
   "outputs": [
    {
     "name": "stdout",
     "output_type": "stream",
     "text": [
      "The model learned the follwoing values for weights and bias:\n",
      "OrderedDict([('linear_layer.weight', tensor([[0.6691]], device='cuda:0')),\n",
      "             ('linear_layer.bias', tensor([0.3130], device='cuda:0'))])\n",
      "\n",
      "And the original values for weights and bias are:\n",
      "weights: 0.7, bias: 0.3\n"
     ]
    }
   ],
   "source": [
    "from pprint import pprint\n",
    "print(\"The model learned the follwoing values for weights and bias:\")\n",
    "pprint(model.state_dict())\n",
    "print(\"\\nAnd the original values for weights and bias are:\")\n",
    "print(f\"weights: {weight}, bias: {bias}\")\n"
   ]
  },
  {
   "cell_type": "markdown",
   "metadata": {
    "id": "Bs81wfpQNQIM"
   },
   "source": [
    "### 4. Making predictions"
   ]
  },
  {
   "cell_type": "code",
   "execution_count": 30,
   "metadata": {
    "colab": {
     "base_uri": "https://localhost:8080/"
    },
    "id": "jD5D6GhuNH8W",
    "outputId": "a4a79d2c-34e1-44db-9c92-4b403be18555"
   },
   "outputs": [
    {
     "data": {
      "text/plain": [
       "tensor([[0.8483],\n",
       "        [0.8617],\n",
       "        [0.8750],\n",
       "        [0.8884],\n",
       "        [0.9018],\n",
       "        [0.9152],\n",
       "        [0.9286],\n",
       "        [0.9420],\n",
       "        [0.9553],\n",
       "        [0.9687]], device='cuda:0')"
      ]
     },
     "execution_count": 30,
     "metadata": {},
     "output_type": "execute_result"
    }
   ],
   "source": [
    "# set model to evaluation mode\n",
    "model.eval()\n",
    "\n",
    "# make prediction on test data\n",
    "with torch.inference_mode():\n",
    "  test_preds = model(X_test)\n",
    "\n",
    "test_preds  \n"
   ]
  },
  {
   "cell_type": "code",
   "execution_count": 31,
   "metadata": {
    "colab": {
     "base_uri": "https://localhost:8080/",
     "height": 599
    },
    "id": "qXHHpfahNljl",
    "outputId": "e70a66c1-a5fd-4552-bb4d-ae221c3e986c"
   },
   "outputs": [
    {
     "data": {
      "image/png": "[encoded data removed]",
      "text/plain": [
       "<Figure size 1000x700 with 1 Axes>"
      ]
     },
     "metadata": {},
     "output_type": "display_data"
    }
   ],
   "source": [
    "# plot the predictions and true values of y_test\n",
    "plot_predictions(predictions=test_preds.cpu())"
   ]
  },
  {
   "cell_type": "markdown",
   "metadata": {
    "id": "cK3erC43OFkF"
   },
   "source": [
    "### 5. Save and load a mode by state_dict"
   ]
  },
  {
   "cell_type": "code",
   "execution_count": 32,
   "metadata": {
    "colab": {
     "base_uri": "https://localhost:8080/"
    },
    "id": "-QS4dzeaOMcW",
    "outputId": "15a51218-861c-42ef-b3bb-8193b76338c3"
   },
   "outputs": [
    {
     "name": "stdout",
     "output_type": "stream",
     "text": [
      "Saving model to: models/pythorch_workflow_gpu.pth\n"
     ]
    }
   ],
   "source": [
    "# create folder to save parameter file\n",
    "from pathlib import Path\n",
    "\n",
    "MODEL_PATH = Path(\"models\")\n",
    "MODEL_PATH.mkdir(parents=True, exist_ok=True)\n",
    "\n",
    "# create model save path\n",
    "MODEL_NAME = \"pythorch_workflow_gpu.pth\"\n",
    "MODEL_SAVE_PATH = MODEL_PATH / MODEL_NAME\n",
    "\n",
    "# save the mode state dict\n",
    "print(f\"Saving model to: {MODEL_SAVE_PATH}\")\n",
    "torch.save(obj=model.state_dict(), f=MODEL_SAVE_PATH)\n"
   ]
  },
  {
   "cell_type": "code",
   "execution_count": 34,
   "metadata": {
    "colab": {
     "base_uri": "https://localhost:8080/"
    },
    "id": "HQkVH8ruPR2S",
    "outputId": "71e32a13-94de-4fb5-e119-98c5a24627a1"
   },
   "outputs": [
    {
     "name": "stdout",
     "output_type": "stream",
     "text": [
      "Loaded model:\n",
      "LinearRegressionModel(\n",
      "  (linear_layer): Linear(in_features=1, out_features=1, bias=True)\n",
      ")\n",
      "Loaded on device:\n",
      "cuda:0\n"
     ]
    }
   ],
   "source": [
    "# load model using state_dict from the saved file\n",
    "loaded_model = LinearRegressionModel()\n",
    "loaded_model.load_state_dict(torch.load(MODEL_SAVE_PATH))\n",
    "\n",
    "loaded_model.to(device)\n",
    "print(f\"Loaded model:\\n{loaded_model}\")\n",
    "print(f\"Loaded on device:\\n{next(loaded_model.parameters()).device}\")"
   ]
  },
  {
   "cell_type": "code",
   "execution_count": 35,
   "metadata": {
    "colab": {
     "base_uri": "https://localhost:8080/"
    },
    "id": "_v3Myc6kQb6O",
    "outputId": "0f114ce8-7bea-430a-8781-0e0cc0611e22"
   },
   "outputs": [
    {
     "data": {
      "text/plain": [
       "tensor([[True],\n",
       "        [True],\n",
       "        [True],\n",
       "        [True],\n",
       "        [True],\n",
       "        [True],\n",
       "        [True],\n",
       "        [True],\n",
       "        [True],\n",
       "        [True]], device='cuda:0')"
      ]
     },
     "execution_count": 35,
     "metadata": {},
     "output_type": "execute_result"
    }
   ],
   "source": [
    "# do inference\n",
    "loaded_model.eval()\n",
    "\n",
    "with torch.inference_mode():\n",
    "  pred_test_loaded_model = loaded_model(X_test)\n",
    "\n",
    "test_preds == pred_test_loaded_model  \n",
    "\n"
   ]
  }
 ],
 "metadata": {
  "accelerator": "GPU",
  "colab": {
   "gpuType": "T4",
   "provenance": []
  },
  "kernelspec": {
   "display_name": "Python 3 (ipykernel)",
   "language": "python",
   "name": "python3"
  },
  "language_info": {
   "codemirror_mode": {
    "name": "ipython",
    "version": 3
   },
   "file_extension": ".py",
   "mimetype": "text/x-python",
   "name": "python",
   "nbconvert_exporter": "python",
   "pygments_lexer": "ipython3",
   "version": "3.10.4"
  }
 },
 "nbformat": 4,
 "nbformat_minor": 1
}
